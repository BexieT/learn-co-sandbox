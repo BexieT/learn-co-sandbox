{
  "nbformat": 4,
  "nbformat_minor": 0,
  "metadata": {
    "colab": {
      "name": "Untitled10.ipynb",
      "version": "0.3.2",
      "provenance": [],
      "include_colab_link": true
    },
    "kernelspec": {
      "name": "python3",
      "display_name": "Python 3"
    }
  },
  "cells": [
    {
      "cell_type": "markdown",
      "metadata": {
        "id": "view-in-github",
        "colab_type": "text"
      },
      "source": [
        "<a href=\"https://colab.research.google.com/github/BexieT/learn-co-sandbox/blob/master/stringmanipulation.ipynb\" target=\"_parent\"><img src=\"https://colab.research.google.com/assets/colab-badge.svg\" alt=\"Open In Colab\"/></a>"
      ]
    },
    {
      "cell_type": "code",
      "metadata": {
        "id": "XiiQK3YcmZR1",
        "colab_type": "code",
        "colab": {}
      },
      "source": [
        "test_string1 = \"The quick brown fox jumps over the lazy dog\""
      ],
      "execution_count": 0,
      "outputs": []
    },
    {
      "cell_type": "code",
      "metadata": {
        "id": "D3Wk7kUwmhx5",
        "colab_type": "code",
        "colab": {
          "base_uri": "https://localhost:8080/",
          "height": 50
        },
        "outputId": "e71e9e07-c98b-4f6c-ca68-35801296b283"
      },
      "source": [
        "print(test_string1.upper())\n",
        "print(test_string1.title())"
      ],
      "execution_count": 10,
      "outputs": [
        {
          "output_type": "stream",
          "text": [
            "THE QUICK BROWN FOX JUMPS OVER THE LAZY DOG\n",
            "The Quick Brown Fox Jumps Over The Lazy Dog\n"
          ],
          "name": "stdout"
        }
      ]
    },
    {
      "cell_type": "code",
      "metadata": {
        "id": "MwuygT-5moNz",
        "colab_type": "code",
        "colab": {}
      },
      "source": [
        "result = test_string1.split(\" \")"
      ],
      "execution_count": 0,
      "outputs": []
    },
    {
      "cell_type": "code",
      "metadata": {
        "id": "wm8rLLibm1hU",
        "colab_type": "code",
        "colab": {
          "base_uri": "https://localhost:8080/",
          "height": 34
        },
        "outputId": "17216fc3-8ea9-4c11-dbba-403d58968492"
      },
      "source": [
        "print(result)"
      ],
      "execution_count": 4,
      "outputs": [
        {
          "output_type": "stream",
          "text": [
            "['The', 'quick', 'brown', 'fox', 'jumps', 'over', 'the', 'lazy', 'dog']\n"
          ],
          "name": "stdout"
        }
      ]
    },
    {
      "cell_type": "code",
      "metadata": {
        "id": "BGFTfutFm3W_",
        "colab_type": "code",
        "colab": {
          "base_uri": "https://localhost:8080/",
          "height": 34
        },
        "outputId": "374f4ad9-5d03-4ace-aab0-65471f7bbed1"
      },
      "source": [
        "letters = [\"a\", \"b\", \"c\", \"d\", \"e\"]\n",
        "print(\", \".join(letters))"
      ],
      "execution_count": 6,
      "outputs": [
        {
          "output_type": "stream",
          "text": [
            "a, b, c, d, e\n"
          ],
          "name": "stdout"
        }
      ]
    },
    {
      "cell_type": "code",
      "metadata": {
        "id": "92mGbuBbnSaP",
        "colab_type": "code",
        "colab": {}
      },
      "source": [
        "names = [\"Amy\", \"John\", \"George\", \"Michael\", \"Penelope\"]\n",
        "biggest = max(len(name) for name in names)"
      ],
      "execution_count": 0,
      "outputs": []
    },
    {
      "cell_type": "code",
      "metadata": {
        "id": "3n7qqOa9nu6q",
        "colab_type": "code",
        "colab": {
          "base_uri": "https://localhost:8080/",
          "height": 269
        },
        "outputId": "dd0ccb8a-82e1-4dd6-b32f-65ab11aefe3d"
      },
      "source": [
        "for name in names:\n",
        "  print(name.ljust(biggest+2,\"-\") + \":\")\n",
        "for name in names:\n",
        "  print(name.center(biggest+2,\"-\") + \":\")\n",
        "for name in names:\n",
        "  print(name.rjust(biggest+2,\"-\") + \":\")"
      ],
      "execution_count": 8,
      "outputs": [
        {
          "output_type": "stream",
          "text": [
            "Amy-------:\n",
            "John------:\n",
            "George----:\n",
            "Michael---:\n",
            "Penelope--:\n",
            "---Amy----:\n",
            "---John---:\n",
            "--George--:\n",
            "-Michael--:\n",
            "-Penelope-:\n",
            "-------Amy:\n",
            "------John:\n",
            "----George:\n",
            "---Michael:\n",
            "--Penelope:\n"
          ],
          "name": "stdout"
        }
      ]
    },
    {
      "cell_type": "code",
      "metadata": {
        "id": "VbY5DEiboUZ8",
        "colab_type": "code",
        "colab": {
          "base_uri": "https://localhost:8080/",
          "height": 50
        },
        "outputId": "6bc41ed0-e0e8-420f-975c-dae416300e5e"
      },
      "source": [
        "sample_str = \"The quick brown fox jumps over the lazy dog\"\n",
        "trans_table = str.maketrans(\"abegilostz\", \"4636110572\")\n",
        "print(sample_str)\n",
        "print(sample_str.translate(trans_table))"
      ],
      "execution_count": 9,
      "outputs": [
        {
          "output_type": "stream",
          "text": [
            "The quick brown fox jumps over the lazy dog\n",
            "Th3 qu1ck 6r0wn f0x jump5 0v3r 7h3 142y d06\n"
          ],
          "name": "stdout"
        }
      ]
    },
    {
      "cell_type": "code",
      "metadata": {
        "id": "ZcmzO4JEpRX9",
        "colab_type": "code",
        "colab": {
          "base_uri": "https://localhost:8080/",
          "height": 34
        },
        "outputId": "d684ad18-b0d7-4003-d044-7d24d3c405fb"
      },
      "source": [
        "print(test_string1.translate(trans_table))"
      ],
      "execution_count": 12,
      "outputs": [
        {
          "output_type": "stream",
          "text": [
            "Th3 qu1ck 6r0wn f0x jump5 0v3r 7h3 142y d06\n"
          ],
          "name": "stdout"
        }
      ]
    },
    {
      "cell_type": "code",
      "metadata": {
        "id": "WJ0rJ5L2uGao",
        "colab_type": "code",
        "colab": {}
      },
      "source": [
        ""
      ],
      "execution_count": 0,
      "outputs": []
    }
  ]
}