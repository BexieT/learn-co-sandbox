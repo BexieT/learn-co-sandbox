{
  "nbformat": 4,
  "nbformat_minor": 0,
  "metadata": {
    "colab": {
      "name": "Functions.ipynb",
      "version": "0.3.2",
      "provenance": [],
      "include_colab_link": true
    },
    "kernelspec": {
      "name": "python3",
      "display_name": "Python 3"
    }
  },
  "cells": [
    {
      "cell_type": "markdown",
      "metadata": {
        "id": "view-in-github",
        "colab_type": "text"
      },
      "source": [
        "<a href=\"https://colab.research.google.com/github/BexieT/learn-co-sandbox/blob/master/Functions.ipynb\" target=\"_parent\"><img src=\"https://colab.research.google.com/assets/colab-badge.svg\" alt=\"Open In Colab\"/></a>"
      ]
    },
    {
      "cell_type": "code",
      "metadata": {
        "id": "4DxwXLAa8L2R",
        "colab_type": "code",
        "colab": {}
      },
      "source": [
        ""
      ],
      "execution_count": 0,
      "outputs": []
    },
    {
      "cell_type": "markdown",
      "metadata": {
        "id": "iNAJpH2N8Q45",
        "colab_type": "text"
      },
      "source": [
        "try out some funky functions\n"
      ]
    },
    {
      "cell_type": "code",
      "metadata": {
        "id": "wBlPLXhU8TS5",
        "colab_type": "code",
        "colab": {
          "base_uri": "https://localhost:8080/",
          "height": 34
        },
        "outputId": "e29ec426-d564-42c2-84a5-90249f881122"
      },
      "source": [
        "def greet_user():\n",
        "  print(\"Hello!\")\n",
        "  \n",
        "greet_user()"
      ],
      "execution_count": 1,
      "outputs": [
        {
          "output_type": "stream",
          "text": [
            "Hello!\n"
          ],
          "name": "stdout"
        }
      ]
    },
    {
      "cell_type": "code",
      "metadata": {
        "id": "BTgrVZEN8gTV",
        "colab_type": "code",
        "colab": {
          "base_uri": "https://localhost:8080/",
          "height": 50
        },
        "outputId": "0f20d256-05fe-4746-aa5f-e136da585c91"
      },
      "source": [
        "def greet_user(username):\n",
        "  print(\"Hello, \" + username + \"!\")\n",
        "  \n",
        "greet_user('Jay')\n",
        "greet_user('Brian')\n"
      ],
      "execution_count": 2,
      "outputs": [
        {
          "output_type": "stream",
          "text": [
            "Hello, Jay!\n",
            "Hello, Brian!\n"
          ],
          "name": "stdout"
        }
      ]
    },
    {
      "cell_type": "code",
      "metadata": {
        "id": "26zc1VPj89nc",
        "colab_type": "code",
        "colab": {
          "base_uri": "https://localhost:8080/",
          "height": 50
        },
        "outputId": "5445eefe-9fe7-4cbb-fdbe-9f2bcfb48fdf"
      },
      "source": [
        "def describe_pet(animal, name):\n",
        "  print(\"I have a \" + animal + \".\")\n",
        "  print(\"It's name is \" + name)\n",
        "  \n",
        "describe_pet('lizard', 'Eddie')"
      ],
      "execution_count": 3,
      "outputs": [
        {
          "output_type": "stream",
          "text": [
            "I have a lizard.\n",
            "It's name is Eddie\n"
          ],
          "name": "stdout"
        }
      ]
    }
  ]
}