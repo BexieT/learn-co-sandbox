{
  "nbformat": 4,
  "nbformat_minor": 0,
  "metadata": {
    "colab": {
      "name": "strike1.ipynb",
      "version": "0.3.2",
      "provenance": [],
      "include_colab_link": true
    },
    "kernelspec": {
      "name": "python3",
      "display_name": "Python 3"
    }
  },
  "cells": [
    {
      "cell_type": "markdown",
      "metadata": {
        "id": "view-in-github",
        "colab_type": "text"
      },
      "source": [
        "<a href=\"https://colab.research.google.com/github/BexieT/learn-co-sandbox/blob/master/strike1.ipynb\" target=\"_parent\"><img src=\"https://colab.research.google.com/assets/colab-badge.svg\" alt=\"Open In Colab\"/></a>"
      ]
    },
    {
      "cell_type": "code",
      "metadata": {
        "id": "Uh9Rt50KZQRV",
        "colab_type": "code",
        "colab": {}
      },
      "source": [
        "names = ['tommy','joey','johnny']"
      ],
      "execution_count": 0,
      "outputs": []
    },
    {
      "cell_type": "code",
      "metadata": {
        "id": "hSJ1fhpWZdtG",
        "colab_type": "code",
        "outputId": "aac829a5-c9c5-40c0-d499-d2ce24845039",
        "colab": {
          "base_uri": "https://localhost:8080/",
          "height": 34
        }
      },
      "source": [
        "names[-1]"
      ],
      "execution_count": 0,
      "outputs": [
        {
          "output_type": "execute_result",
          "data": {
            "text/plain": [
              "'johnny'"
            ]
          },
          "metadata": {
            "tags": []
          },
          "execution_count": 3
        }
      ]
    },
    {
      "cell_type": "code",
      "metadata": {
        "id": "E8XPzDzRZjJa",
        "colab_type": "code",
        "outputId": "2e0eeb37-25ad-4f4d-d5ad-b35b9cc24977",
        "colab": {
          "base_uri": "https://localhost:8080/",
          "height": 162
        }
      },
      "source": [
        "names('johnny').title"
      ],
      "execution_count": 0,
      "outputs": [
        {
          "output_type": "error",
          "ename": "TypeError",
          "evalue": "ignored",
          "traceback": [
            "\u001b[0;31m---------------------------------------------------------------------------\u001b[0m",
            "\u001b[0;31mTypeError\u001b[0m                                 Traceback (most recent call last)",
            "\u001b[0;32m<ipython-input-4-ba704e93a744>\u001b[0m in \u001b[0;36m<module>\u001b[0;34m()\u001b[0m\n\u001b[0;32m----> 1\u001b[0;31m \u001b[0mnames\u001b[0m\u001b[0;34m(\u001b[0m\u001b[0;34m'johnny'\u001b[0m\u001b[0;34m)\u001b[0m\u001b[0;34m.\u001b[0m\u001b[0mtitle\u001b[0m\u001b[0;34m\u001b[0m\u001b[0;34m\u001b[0m\u001b[0m\n\u001b[0m",
            "\u001b[0;31mTypeError\u001b[0m: 'list' object is not callable"
          ]
        }
      ]
    },
    {
      "cell_type": "code",
      "metadata": {
        "id": "1SaWJ7jVZrlv",
        "colab_type": "code",
        "outputId": "983f02d0-69ff-4c45-841c-4a64f8bf2c2b",
        "colab": {
          "base_uri": "https://localhost:8080/",
          "height": 34
        }
      },
      "source": [
        "names[-1].title"
      ],
      "execution_count": 0,
      "outputs": [
        {
          "output_type": "execute_result",
          "data": {
            "text/plain": [
              "<function str.title>"
            ]
          },
          "metadata": {
            "tags": []
          },
          "execution_count": 5
        }
      ]
    },
    {
      "cell_type": "code",
      "metadata": {
        "id": "1jCa6uSzZyiv",
        "colab_type": "code",
        "outputId": "5100905e-a91b-4e6f-fc98-5624d703944a",
        "colab": {
          "base_uri": "https://localhost:8080/",
          "height": 34
        }
      },
      "source": [
        "names[-1].title()"
      ],
      "execution_count": 0,
      "outputs": [
        {
          "output_type": "execute_result",
          "data": {
            "text/plain": [
              "'Johnny'"
            ]
          },
          "metadata": {
            "tags": []
          },
          "execution_count": 6
        }
      ]
    },
    {
      "cell_type": "code",
      "metadata": {
        "id": "16TX_pH8aE6s",
        "colab_type": "code",
        "outputId": "45e9c9d0-60e5-4f45-b62d-85d025831f63",
        "colab": {
          "base_uri": "https://localhost:8080/",
          "height": 67
        }
      },
      "source": [
        "for name in names:\n",
        "  print(name.title())\n",
        "  "
      ],
      "execution_count": 0,
      "outputs": [
        {
          "output_type": "stream",
          "text": [
            "Tommy\n",
            "Joey\n",
            "Johnny\n"
          ],
          "name": "stdout"
        }
      ]
    },
    {
      "cell_type": "code",
      "metadata": {
        "id": "ZRFJL5yvm8zQ",
        "colab_type": "code",
        "colab": {}
      },
      "source": [
        ""
      ],
      "execution_count": 0,
      "outputs": []
    },
    {
      "cell_type": "markdown",
      "metadata": {
        "id": "hoRF6fZhxAGP",
        "colab_type": "text"
      },
      "source": [
        "Exercises from https://pynative.com/python-basic-exercise-for-beginners/"
      ]
    },
    {
      "cell_type": "markdown",
      "metadata": {
        "id": "99K85LfUm9jv",
        "colab_type": "text"
      },
      "source": [
        "sum 2 value\n"
      ]
    },
    {
      "cell_type": "code",
      "metadata": {
        "id": "-w3_lA8fnAGT",
        "colab_type": "code",
        "colab": {
          "base_uri": "https://localhost:8080/",
          "height": 34
        },
        "outputId": "bda47b95-7ae6-4a67-857a-94804428f183"
      },
      "source": [
        "def sum(a,b):\n",
        "  print(a+b)\n",
        "\n",
        "sum(2,2)"
      ],
      "execution_count": 7,
      "outputs": [
        {
          "output_type": "stream",
          "text": [
            "4\n"
          ],
          "name": "stdout"
        }
      ]
    },
    {
      "cell_type": "code",
      "metadata": {
        "id": "xhPiGgU_oi3z",
        "colab_type": "code",
        "colab": {
          "base_uri": "https://localhost:8080/",
          "height": 34
        },
        "outputId": "a15cd1b4-643b-4e5a-ecb3-a8f22d17728b"
      },
      "source": [
        "def multiply(a,b):\n",
        "  print(a * b)\n",
        "  \n",
        "multiply(2,3)"
      ],
      "execution_count": 8,
      "outputs": [
        {
          "output_type": "stream",
          "text": [
            "6\n"
          ],
          "name": "stdout"
        }
      ]
    },
    {
      "cell_type": "code",
      "metadata": {
        "id": "cvLhpVxposTt",
        "colab_type": "code",
        "colab": {
          "base_uri": "https://localhost:8080/",
          "height": 34
        },
        "outputId": "6631d9b0-117f-472e-9620-bd8fcc84ad01"
      },
      "source": [
        "def sum_or_product(a,b):\n",
        "  if (a*b) >=1000:\n",
        "    print(\"The sum is:\")\n",
        "    print(a+b)\n",
        "  else:\n",
        "    print(a*b)\n",
        "    \n",
        "sum_or_product(2,5)"
      ],
      "execution_count": 14,
      "outputs": [
        {
          "output_type": "stream",
          "text": [
            "10\n"
          ],
          "name": "stdout"
        }
      ]
    },
    {
      "cell_type": "code",
      "metadata": {
        "id": "ntnIeE6mqVRs",
        "colab_type": "code",
        "colab": {}
      },
      "source": [
        ""
      ],
      "execution_count": 0,
      "outputs": []
    },
    {
      "cell_type": "markdown",
      "metadata": {
        "id": "Gq7xFZPeqejO",
        "colab_type": "text"
      },
      "source": [
        "given a range, print sums"
      ]
    },
    {
      "cell_type": "code",
      "metadata": {
        "id": "rzqsXjkerF1D",
        "colab_type": "code",
        "colab": {
          "base_uri": "https://localhost:8080/",
          "height": 185
        },
        "outputId": "36364ecb-6eeb-4b11-edd1-b4b42b7f4cee"
      },
      "source": [
        "def rolling_sums(num):\n",
        "  PreviousNum = 0\n",
        "  for i in range(num):\n",
        "    sum = PreviousNum + i\n",
        "    print(sum)\n",
        "    PreviousNum = i\n",
        "    \n",
        "\n",
        "rolling_sums(10)\n",
        "\n"
      ],
      "execution_count": 21,
      "outputs": [
        {
          "output_type": "stream",
          "text": [
            "0\n",
            "1\n",
            "3\n",
            "5\n",
            "7\n",
            "9\n",
            "11\n",
            "13\n",
            "15\n",
            "17\n"
          ],
          "name": "stdout"
        }
      ]
    },
    {
      "cell_type": "markdown",
      "metadata": {
        "id": "Y6C04KYMtXL8",
        "colab_type": "text"
      },
      "source": [
        "print even - indexed letters"
      ]
    },
    {
      "cell_type": "code",
      "metadata": {
        "id": "mi8kEeQJtmRL",
        "colab_type": "code",
        "colab": {
          "base_uri": "https://localhost:8080/",
          "height": 168
        },
        "outputId": "f853e3dc-ebd7-49ce-bdee-93d12822a24c"
      },
      "source": [
        "def printEveIndexChar(str):\n",
        "  for i in range(0, len(str)-1,2):\n",
        "    print(\"index[\",i, \"]\", str[i] )\n",
        "    \n",
        "inputString = input(\"Enter string\")\n",
        "print(\"Original string is\", inputString)\n",
        "\n",
        "print(\"Printing onnly even chars\")\n",
        "printEveIndexChar(inputString)\n",
        "\n",
        "\n",
        " "
      ],
      "execution_count": 23,
      "outputs": [
        {
          "output_type": "stream",
          "text": [
            "Enter stringHello, World\n",
            "Original string is Hello, World\n",
            "Printing onnly even chars\n",
            "index[ 0 ] H\n",
            "index[ 2 ] l\n",
            "index[ 4 ] o\n",
            "index[ 6 ]  \n",
            "index[ 8 ] o\n",
            "index[ 10 ] l\n"
          ],
          "name": "stdout"
        }
      ]
    },
    {
      "cell_type": "markdown",
      "metadata": {
        "id": "AqJtEXbPvy8j",
        "colab_type": "text"
      },
      "source": [
        "Remove characters"
      ]
    },
    {
      "cell_type": "code",
      "metadata": {
        "id": "3h-77B8Jv11C",
        "colab_type": "code",
        "colab": {
          "base_uri": "https://localhost:8080/",
          "height": 50
        },
        "outputId": "7ac0e73b-399f-4183-f969-259fca40f8b7"
      },
      "source": [
        "def removeChars(str, n):\n",
        "  return str[n:]\n",
        "\n",
        "print(\"Removing n number of chars\")\n",
        "print(removeChars(\"pythngsux\", 4))"
      ],
      "execution_count": 25,
      "outputs": [
        {
          "output_type": "stream",
          "text": [
            "Removing n number of chars\n",
            "ngsux\n"
          ],
          "name": "stdout"
        }
      ]
    },
    {
      "cell_type": "markdown",
      "metadata": {
        "id": "BMW3stIjxZXk",
        "colab_type": "text"
      },
      "source": [
        "Looking for duplicates"
      ]
    },
    {
      "cell_type": "code",
      "metadata": {
        "id": "X9x7xodBxYD_",
        "colab_type": "code",
        "colab": {
          "base_uri": "https://localhost:8080/",
          "height": 50
        },
        "outputId": "d61eb604-e314-41cd-f525-ac3bb3e9620e"
      },
      "source": [
        "def Duplicates(NumbersList):\n",
        "  firstElement = NumbersList[0]\n",
        "  lastElement = NumbersList[-1]\n",
        "  if firstElement == lastElement:\n",
        "    return True\n",
        "  else:\n",
        "    return False\n",
        "  \n",
        "NumbersList = [10,20,30,40,60,10]\n",
        "\n",
        "print(\"The first and last number of a list is same\")\n",
        "print(\"result is\", Duplicates(NumbersList))\n"
      ],
      "execution_count": 36,
      "outputs": [
        {
          "output_type": "stream",
          "text": [
            "The first and last number of a list is same\n",
            "result is True\n"
          ],
          "name": "stdout"
        }
      ]
    }
  ]
}