{
  "nbformat": 4,
  "nbformat_minor": 0,
  "metadata": {
    "colab": {
      "name": "moreLoops.ipynb",
      "version": "0.3.2",
      "provenance": [],
      "collapsed_sections": [],
      "include_colab_link": true
    },
    "kernelspec": {
      "name": "python3",
      "display_name": "Python 3"
    }
  },
  "cells": [
    {
      "cell_type": "markdown",
      "metadata": {
        "id": "view-in-github",
        "colab_type": "text"
      },
      "source": [
        "<a href=\"https://colab.research.google.com/github/BexieT/learn-co-sandbox/blob/master/moreLoops.ipynb\" target=\"_parent\"><img src=\"https://colab.research.google.com/assets/colab-badge.svg\" alt=\"Open In Colab\"/></a>"
      ]
    },
    {
      "cell_type": "code",
      "metadata": {
        "id": "aMql49sd6ZcU",
        "colab_type": "code",
        "outputId": "bd62a938-3ede-477f-d716-f11ca41c7d27",
        "colab": {
          "base_uri": "https://localhost:8080/",
          "height": 101
        }
      },
      "source": [
        "for x in range (5,10):\n",
        "  print(x)"
      ],
      "execution_count": 0,
      "outputs": [
        {
          "output_type": "stream",
          "text": [
            "5\n",
            "6\n",
            "7\n",
            "8\n",
            "9\n"
          ],
          "name": "stdout"
        }
      ]
    },
    {
      "cell_type": "code",
      "metadata": {
        "id": "uml-4bLG7lvy",
        "colab_type": "code",
        "outputId": "ca3ecc7e-6481-4a79-b31f-e8310a232d8f",
        "colab": {
          "base_uri": "https://localhost:8080/",
          "height": 84
        }
      },
      "source": [
        "days = [\"Mon\", \"Tues\", \"Wed\", \"Thurs\"]\n",
        "for d in days:\n",
        "  print(d)"
      ],
      "execution_count": 0,
      "outputs": [
        {
          "output_type": "stream",
          "text": [
            "Mon\n",
            "Tues\n",
            "Wed\n",
            "Thurs\n"
          ],
          "name": "stdout"
        }
      ]
    },
    {
      "cell_type": "code",
      "metadata": {
        "id": "K-QSklj171WB",
        "colab_type": "code",
        "outputId": "f9990cb7-1abe-4a4e-add6-f34cf8cbe968",
        "colab": {
          "base_uri": "https://localhost:8080/",
          "height": 50
        }
      },
      "source": [
        "for x in range(5,10):\n",
        "  if x==7:break\n",
        "  print(x)"
      ],
      "execution_count": 0,
      "outputs": [
        {
          "output_type": "stream",
          "text": [
            "5\n",
            "6\n"
          ],
          "name": "stdout"
        }
      ]
    },
    {
      "cell_type": "code",
      "metadata": {
        "id": "KeWNovzB8NMH",
        "colab_type": "code",
        "colab": {}
      },
      "source": [
        ""
      ],
      "execution_count": 0,
      "outputs": []
    },
    {
      "cell_type": "markdown",
      "metadata": {
        "id": "f0ZGk9608b7Q",
        "colab_type": "text"
      },
      "source": [
        "continue statement\n"
      ]
    },
    {
      "cell_type": "code",
      "metadata": {
        "id": "sBvSBA2e8dMN",
        "colab_type": "code",
        "outputId": "170a9274-f5c7-4834-f384-eb26edfcdd2c",
        "colab": {
          "base_uri": "https://localhost:8080/",
          "height": 67
        }
      },
      "source": [
        "for x in range(5,10):\n",
        "  #if x==7:break\n",
        "  if (x % 2 ==0):continue\n",
        "  print(x)"
      ],
      "execution_count": 0,
      "outputs": [
        {
          "output_type": "stream",
          "text": [
            "5\n",
            "7\n",
            "9\n"
          ],
          "name": "stdout"
        }
      ]
    },
    {
      "cell_type": "code",
      "metadata": {
        "id": "CT1bI_5Z8pqY",
        "colab_type": "code",
        "colab": {}
      },
      "source": [
        ""
      ],
      "execution_count": 0,
      "outputs": []
    },
    {
      "cell_type": "markdown",
      "metadata": {
        "id": "B-cv_4Qu8uFr",
        "colab_type": "text"
      },
      "source": [
        "enumerate\n"
      ]
    },
    {
      "cell_type": "code",
      "metadata": {
        "id": "otlPZqSH8v5E",
        "colab_type": "code",
        "outputId": "42e80bd0-270c-4058-a8ba-bc42c20f817e",
        "colab": {
          "base_uri": "https://localhost:8080/",
          "height": 84
        }
      },
      "source": [
        "days = [\"Mon\", \"Tues\", \"Wed\", \"Thurs\"]\n",
        "for i,d in enumerate(days):\n",
        "  print(i,d)\n",
        "  "
      ],
      "execution_count": 0,
      "outputs": [
        {
          "output_type": "stream",
          "text": [
            "0 Mon\n",
            "1 Tues\n",
            "2 Wed\n",
            "3 Thurs\n"
          ],
          "name": "stdout"
        }
      ]
    },
    {
      "cell_type": "code",
      "metadata": {
        "id": "ESxIOLq_9Di-",
        "colab_type": "code",
        "outputId": "67504512-edd8-487f-9eb2-4e413909dec8",
        "colab": {
          "base_uri": "https://localhost:8080/",
          "height": 67
        }
      },
      "source": [
        "game = 'soccer'\n",
        "players = [\"Alex\", \"Megan\", \"Hope\", \"Carli\"]\n",
        "players.remove(\"Hope\")\n",
        "\n",
        "for player in players:\n",
        "  print(player + \" plays \" + game)"
      ],
      "execution_count": 0,
      "outputs": [
        {
          "output_type": "stream",
          "text": [
            "Alex plays soccer\n",
            "Megan plays soccer\n",
            "Carli plays soccer\n"
          ],
          "name": "stdout"
        }
      ]
    },
    {
      "cell_type": "code",
      "metadata": {
        "id": "1Imu56G3-zc3",
        "colab_type": "code",
        "outputId": "3bb3b51c-eeaf-4b84-b4fa-529425ab4f7c",
        "colab": {
          "base_uri": "https://localhost:8080/",
          "height": 84
        }
      },
      "source": [
        "players.append(\"Hope\")\n",
        "for player in players:\n",
        "  print(player + \" plays \" + game)"
      ],
      "execution_count": 0,
      "outputs": [
        {
          "output_type": "stream",
          "text": [
            "Alex plays soccer\n",
            "Megan plays soccer\n",
            "Carli plays soccer\n",
            "Hope plays soccer\n"
          ],
          "name": "stdout"
        }
      ]
    },
    {
      "cell_type": "code",
      "metadata": {
        "id": "4i5MsqrG_BqK",
        "colab_type": "code",
        "colab": {}
      },
      "source": [
        "players.remove(players[-1])"
      ],
      "execution_count": 0,
      "outputs": []
    },
    {
      "cell_type": "code",
      "metadata": {
        "id": "eFWYA6bp_srb",
        "colab_type": "code",
        "outputId": "4d1644a3-78ff-4aef-e84b-e3503847e0a8",
        "colab": {
          "base_uri": "https://localhost:8080/",
          "height": 67
        }
      },
      "source": [
        "for player in players:\n",
        "  print(player + \" is a \" + game + \"star!\")"
      ],
      "execution_count": 0,
      "outputs": [
        {
          "output_type": "stream",
          "text": [
            "Alex is a soccerstar!\n",
            "Megan is a soccerstar!\n",
            "Carli is a soccerstar!\n"
          ],
          "name": "stdout"
        }
      ]
    },
    {
      "cell_type": "code",
      "metadata": {
        "id": "DlC4PLzv_1Wi",
        "colab_type": "code",
        "colab": {}
      },
      "source": [
        ""
      ],
      "execution_count": 0,
      "outputs": []
    }
  ]
}