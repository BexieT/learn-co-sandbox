{
  "nbformat": 4,
  "nbformat_minor": 0,
  "metadata": {
    "colab": {
      "name": "Untitled2.ipynb",
      "version": "0.3.2",
      "provenance": [],
      "include_colab_link": true
    },
    "kernelspec": {
      "name": "python3",
      "display_name": "Python 3"
    }
  },
  "cells": [
    {
      "cell_type": "markdown",
      "metadata": {
        "id": "view-in-github",
        "colab_type": "text"
      },
      "source": [
        "<a href=\"https://colab.research.google.com/github/BexieT/learn-co-sandbox/blob/master/derivatices.ipynb\" target=\"_parent\"><img src=\"https://colab.research.google.com/assets/colab-badge.svg\" alt=\"Open In Colab\"/></a>"
      ]
    },
    {
      "cell_type": "code",
      "metadata": {
        "id": "C7xXEPNlq-d3",
        "colab_type": "code",
        "colab": {}
      },
      "source": [
        ""
      ],
      "execution_count": 0,
      "outputs": []
    },
    {
      "cell_type": "code",
      "metadata": {
        "id": "N9lz-vHdmkvQ",
        "colab_type": "code",
        "colab": {
          "base_uri": "https://localhost:8080/",
          "height": 34
        },
        "outputId": "054f06a1-ebeb-4878-8427-8ed38dc27840"
      },
      "source": [
        "def f(x):\n",
        "  return 3*x\n",
        "\n",
        "f(3)\n"
      ],
      "execution_count": 1,
      "outputs": [
        {
          "output_type": "execute_result",
          "data": {
            "text/plain": [
              "9"
            ]
          },
          "metadata": {
            "tags": []
          },
          "execution_count": 1
        }
      ]
    },
    {
      "cell_type": "code",
      "metadata": {
        "id": "MQbSIg64ngFP",
        "colab_type": "code",
        "colab": {
          "base_uri": "https://localhost:8080/",
          "height": 34
        },
        "outputId": "b72bcba5-6bf4-4133-974a-512dee73b1fe"
      },
      "source": [
        "f(4)\n"
      ],
      "execution_count": 2,
      "outputs": [
        {
          "output_type": "execute_result",
          "data": {
            "text/plain": [
              "12"
            ]
          },
          "metadata": {
            "tags": []
          },
          "execution_count": 2
        }
      ]
    },
    {
      "cell_type": "markdown",
      "metadata": {
        "id": "xbh8YYJdou6_",
        "colab_type": "text"
      },
      "source": [
        "Multivariable function"
      ]
    },
    {
      "cell_type": "code",
      "metadata": {
        "id": "lzy_V-bAoKI5",
        "colab_type": "code",
        "colab": {}
      },
      "source": [
        "def f(x,y):\n",
        "  return 3 * x + y\n"
      ],
      "execution_count": 0,
      "outputs": []
    },
    {
      "cell_type": "code",
      "metadata": {
        "id": "lCrVxvlzoWZr",
        "colab_type": "code",
        "colab": {
          "base_uri": "https://localhost:8080/",
          "height": 34
        },
        "outputId": "840fa9e8-19cf-4714-8356-7adf66d85da9"
      },
      "source": [
        "f(3, 4)"
      ],
      "execution_count": 4,
      "outputs": [
        {
          "output_type": "execute_result",
          "data": {
            "text/plain": [
              "13"
            ]
          },
          "metadata": {
            "tags": []
          },
          "execution_count": 4
        }
      ]
    },
    {
      "cell_type": "code",
      "metadata": {
        "id": "MYbHLy1upC7a",
        "colab_type": "code",
        "colab": {
          "base_uri": "https://localhost:8080/",
          "height": 34
        },
        "outputId": "7010cb1f-222a-4971-9710-75c06f8fe1a8"
      },
      "source": [
        "def squared_error(actual, expected):\n",
        "  return (actual-expected)**2\n",
        "\n",
        "squared_error(4,2)"
      ],
      "execution_count": 5,
      "outputs": [
        {
          "output_type": "execute_result",
          "data": {
            "text/plain": [
              "4"
            ]
          },
          "metadata": {
            "tags": []
          },
          "execution_count": 5
        }
      ]
    },
    {
      "cell_type": "code",
      "metadata": {
        "id": "X1YKM0pkrIA2",
        "colab_type": "code",
        "colab": {
          "base_uri": "https://localhost:8080/",
          "height": 34
        },
        "outputId": "b7340fdf-1f19-4b0b-b3f0-31adbf6899a3"
      },
      "source": [
        "def g(x):\n",
        "  return 3*x\n",
        "\n",
        "g(7)"
      ],
      "execution_count": 8,
      "outputs": [
        {
          "output_type": "execute_result",
          "data": {
            "text/plain": [
              "21"
            ]
          },
          "metadata": {
            "tags": []
          },
          "execution_count": 8
        }
      ]
    },
    {
      "cell_type": "code",
      "metadata": {
        "id": "-uT8S0hT23rW",
        "colab_type": "code",
        "colab": {
          "base_uri": "https://localhost:8080/",
          "height": 34
        },
        "outputId": "34e11c84-a917-4570-d213-ac9b8a1500e4"
      },
      "source": [
        "four_x_plus_fifteen = [(4, 1), (15, 0)]\n",
        "def delta_f(list_of_terms, x_value, delta_x):\n",
        "    return output_at(list_of_terms, x_value + delta_x) - output_at(list_of_terms, x_value)\n",
        "  \n",
        "delta_f(four_x_plus_fifteen, 1, 2)"
      ],
      "execution_count": 22,
      "outputs": [
        {
          "output_type": "execute_result",
          "data": {
            "text/plain": [
              "8"
            ]
          },
          "metadata": {
            "tags": []
          },
          "execution_count": 22
        }
      ]
    },
    {
      "cell_type": "markdown",
      "metadata": {
        "id": "NmDgLy7ctXuF",
        "colab_type": "text"
      },
      "source": [
        "Derivatives"
      ]
    },
    {
      "cell_type": "code",
      "metadata": {
        "id": "wgsAE_MYtgC_",
        "colab_type": "code",
        "colab": {
          "base_uri": "https://localhost:8080/",
          "height": 34
        },
        "outputId": "729fbfc3-d67a-4476-9f27-704b0fb31263"
      },
      "source": [
        "def term_output(term, input_value):\n",
        "  return term[0]*input_value**term[1]\n",
        "\n",
        "term_output((3,2),2)"
      ],
      "execution_count": 10,
      "outputs": [
        {
          "output_type": "execute_result",
          "data": {
            "text/plain": [
              "12"
            ]
          },
          "metadata": {
            "tags": []
          },
          "execution_count": 10
        }
      ]
    },
    {
      "cell_type": "code",
      "metadata": {
        "id": "2BUE6NqBxGa3",
        "colab_type": "code",
        "colab": {
          "base_uri": "https://localhost:8080/",
          "height": 34
        },
        "outputId": "406f2d0f-901b-4302-a7ad-cd01f0dabf4a"
      },
      "source": [
        "def output_at(list_of_terms, x_value):\n",
        "  outputs = list(map(lambda term: term_output(term, x_value), list_of_terms))\n",
        "  return sum(outputs)\n",
        "\n",
        "three_x_squared_minus_eleven = ([3 ,2], [-11,0])\n",
        "output_at(three_x_squared_minus_eleven, 2)\n",
        "\n",
        "output_at(three_x_squared_minus_eleven, 3)"
      ],
      "execution_count": 16,
      "outputs": [
        {
          "output_type": "execute_result",
          "data": {
            "text/plain": [
              "16"
            ]
          },
          "metadata": {
            "tags": []
          },
          "execution_count": 16
        }
      ]
    },
    {
      "cell_type": "code",
      "metadata": {
        "id": "TAnuRj-B3Nm2",
        "colab_type": "code",
        "colab": {}
      },
      "source": [
        "def delta_f_trace(list_of_terms, x_value, delta_x):\n",
        "    initial_f_value = output_at(list_of_terms, x_value)\n",
        "    delta_f_value = delta_f(list_of_terms, x_value, delta_x)\n",
        "    if initial_f_value and delta_f_value:\n",
        "        trace =  trace_values(x_values=[x_value + delta_x, x_value + delta_x], \n",
        "                              y_values=[initial_f_value, initial_f_value + delta_f_value], mode = 'lines',\n",
        "                              name = 'delta f = ' + str(delta_x))\n",
        "        return trace\n",
        "      \n"
      ],
      "execution_count": 0,
      "outputs": []
    }
  ]
}